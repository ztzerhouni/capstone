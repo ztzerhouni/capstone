{
 "cells": [
  {
   "cell_type": "code",
   "execution_count": 25,
   "metadata": {},
   "outputs": [],
   "source": [
    "import numpy as np\n",
    "import pandas as pd\n",
    "import matplotlib.pyplot as plt\n",
    "\n",
    "from sklearn.model_selection import train_test_split, GridSearchCV\n",
    "from sklearn.pipeline import Pipeline\n",
    "from sklearn.metrics import confusion_matrix, plot_confusion_matrix\n",
    "from sklearn.preprocessing import StandardScaler\n",
    "\n",
    "from tensorflow.keras.models import Sequential\n",
    "from tensorflow.keras.layers import Dense\n",
    "from tensorflow.keras.utils import to_categorical\n",
    "from tensorflow.keras.wrappers.scikit_learn import KerasClassifier\n",
    "\n",
    "from sklearn.feature_extraction.text import CountVectorizer"
   ]
  },
  {
   "cell_type": "code",
   "execution_count": 2,
   "metadata": {
    "jupyter": {
     "source_hidden": true
    }
   },
   "outputs": [],
   "source": [
    "def modeling_parameters(model):\n",
    "    parameters = model.get_params()\n",
    "    \n",
    "    param_dict = { 'model' + '__' + key : [value]\\\n",
    "              for key,value in zip(parameters.keys(),parameters.values())\n",
    "                 }\n",
    "    return param_dict\n",
    "\n",
    "def benchmark_model(gridsearch,X_train,X_test,y_train,y_test):\n",
    "    \n",
    "    print()\n",
    "    \n",
    "    print(f'Baseline Score:\\n{y_test.value_counts(normalize=True)}')\n",
    "    print()\n",
    "    print(f'GridSearch Best Score: {gridsearch.best_score_}')\n",
    "    print()\n",
    "    print(f'GridSearch Best Parameters:')\n",
    "    display(gridsearch.best_params_)\n",
    "    print()\n",
    "    print(f'GridSearch Training Score: {gridsearch.score(X_train, y_train)}')\n",
    "    print()\n",
    "    print(f'GridSearch Testing Score: {gridsearch.score(X_test, y_test)}')"
   ]
  },
  {
   "cell_type": "code",
   "execution_count": 3,
   "metadata": {},
   "outputs": [],
   "source": [
    "df = pd.read_csv('data/modeling_aapl.csv')\n",
    "df.set_index('Unnamed: 0',inplace=True)\n",
    "df.index.rename('adjusted_date',inplace=True)"
   ]
  },
  {
   "cell_type": "code",
   "execution_count": 4,
   "metadata": {},
   "outputs": [],
   "source": [
    "df['target'] = [0 if i <= 0 else 1 for i in df['Close']] "
   ]
  },
  {
   "cell_type": "code",
   "execution_count": 5,
   "metadata": {},
   "outputs": [
    {
     "data": {
      "text/html": [
       "<div>\n",
       "<style scoped>\n",
       "    .dataframe tbody tr th:only-of-type {\n",
       "        vertical-align: middle;\n",
       "    }\n",
       "\n",
       "    .dataframe tbody tr th {\n",
       "        vertical-align: top;\n",
       "    }\n",
       "\n",
       "    .dataframe thead th {\n",
       "        text-align: right;\n",
       "    }\n",
       "</style>\n",
       "<table border=\"1\" class=\"dataframe\">\n",
       "  <thead>\n",
       "    <tr style=\"text-align: right;\">\n",
       "      <th></th>\n",
       "      <th>date</th>\n",
       "      <th>title</th>\n",
       "      <th>text</th>\n",
       "      <th>new_date</th>\n",
       "      <th>day</th>\n",
       "      <th>Open</th>\n",
       "      <th>High</th>\n",
       "      <th>Low</th>\n",
       "      <th>Close</th>\n",
       "      <th>Volume</th>\n",
       "      <th>target</th>\n",
       "    </tr>\n",
       "    <tr>\n",
       "      <th>adjusted_date</th>\n",
       "      <th></th>\n",
       "      <th></th>\n",
       "      <th></th>\n",
       "      <th></th>\n",
       "      <th></th>\n",
       "      <th></th>\n",
       "      <th></th>\n",
       "      <th></th>\n",
       "      <th></th>\n",
       "      <th></th>\n",
       "      <th></th>\n",
       "    </tr>\n",
       "  </thead>\n",
       "  <tbody>\n",
       "    <tr>\n",
       "      <th>2020-07-31</th>\n",
       "      <td>Aug. 1, 2020 6:21 PM ET</td>\n",
       "      <td>Apple Amazon Microsoft Google and Facebook con...</td>\n",
       "      <td>Five stocks  Microsoft Apple Amazon Facebook ...</td>\n",
       "      <td>2020-08-01</td>\n",
       "      <td>5</td>\n",
       "      <td>0.019498</td>\n",
       "      <td>0.013499</td>\n",
       "      <td>0.018043</td>\n",
       "      <td>0.0092</td>\n",
       "      <td>200737840.0</td>\n",
       "      <td>1</td>\n",
       "    </tr>\n",
       "  </tbody>\n",
       "</table>\n",
       "</div>"
      ],
      "text/plain": [
       "                                  date  \\\n",
       "adjusted_date                            \n",
       "2020-07-31     Aug. 1, 2020 6:21 PM ET   \n",
       "\n",
       "                                                           title  \\\n",
       "adjusted_date                                                      \n",
       "2020-07-31     Apple Amazon Microsoft Google and Facebook con...   \n",
       "\n",
       "                                                            text    new_date  \\\n",
       "adjusted_date                                                                  \n",
       "2020-07-31      Five stocks  Microsoft Apple Amazon Facebook ...  2020-08-01   \n",
       "\n",
       "               day      Open      High       Low   Close       Volume  target  \n",
       "adjusted_date                                                                  \n",
       "2020-07-31       5  0.019498  0.013499  0.018043  0.0092  200737840.0       1  "
      ]
     },
     "execution_count": 5,
     "metadata": {},
     "output_type": "execute_result"
    }
   ],
   "source": [
    "df.head(1)"
   ]
  },
  {
   "cell_type": "code",
   "execution_count": 6,
   "metadata": {},
   "outputs": [],
   "source": [
    "X = df[['text','Volume']]\n",
    "y = df['target']"
   ]
  },
  {
   "cell_type": "code",
   "execution_count": 7,
   "metadata": {},
   "outputs": [
    {
     "name": "stderr",
     "output_type": "stream",
     "text": [
      "/Users/zakz/anaconda3/envs/dsi/lib/python3.7/site-packages/ipykernel_launcher.py:2: SettingWithCopyWarning: \n",
      "A value is trying to be set on a copy of a slice from a DataFrame.\n",
      "Try using .loc[row_indexer,col_indexer] = value instead\n",
      "\n",
      "See the caveats in the documentation: https://pandas.pydata.org/pandas-docs/stable/user_guide/indexing.html#returning-a-view-versus-a-copy\n",
      "  \n"
     ]
    }
   ],
   "source": [
    "sc = StandardScaler()\n",
    "X['volume_value']= sc.fit_transform(X[['Volume']])\n",
    "X_train, X_test, y_train, y_test = train_test_split(X,\n",
    "                                                    y,\n",
    "                                                    stratify=y,\n",
    "                                                    random_state=1)\n",
    "cvec = CountVectorizer(stop_words='english',\n",
    "                       max_features=2000,\n",
    "                       max_df=0.9,\n",
    "                       min_df=2,\n",
    "                       ngram_range=(1,1))\n",
    "cvec.fit(X_train['text'])\n",
    "X_train_vec = cvec.transform(X_train['text'])\n",
    "X_test_vec = cvec.transform(X_test['text'])\n",
    "X_train_vec_df = pd.DataFrame(X_train_vec.toarray(),\n",
    "                          columns=cvec.get_feature_names(),index=X_train.index)\n",
    "X_test_vec_df =  pd.DataFrame(X_test_vec.toarray(),\n",
    "                          columns=cvec.get_feature_names(),index=X_test.index)\n",
    "#X_train_vec_df['volume_value'] = X_train['volume_value']\n",
    "#X_test_vec_df['volume_value'] = X_test['volume_value']\n",
    "X_train_rdy = X_train_vec_df\n",
    "X_test_rdy = X_test_vec_df"
   ]
  },
  {
   "cell_type": "code",
   "execution_count": 11,
   "metadata": {},
   "outputs": [
    {
     "data": {
      "text/plain": [
       "(64, 1135)"
      ]
     },
     "execution_count": 11,
     "metadata": {},
     "output_type": "execute_result"
    }
   ],
   "source": [
    "X_train_rdy.shape"
   ]
  },
  {
   "cell_type": "code",
   "execution_count": 9,
   "metadata": {},
   "outputs": [
    {
     "data": {
      "text/plain": [
       "(22, 1135)"
      ]
     },
     "execution_count": 9,
     "metadata": {},
     "output_type": "execute_result"
    }
   ],
   "source": [
    "X_test_rdy.shape"
   ]
  },
  {
   "cell_type": "code",
   "execution_count": 21,
   "metadata": {},
   "outputs": [],
   "source": [
    "model = Sequential()\n",
    "model.add(Dense(16,\n",
    "                input_shape=(X_train_rdy.shape[1],),\n",
    "                activation='relu'))\n",
    "model.add(Dense(1, activation='sigmoid'))"
   ]
  },
  {
   "cell_type": "code",
   "execution_count": 22,
   "metadata": {},
   "outputs": [],
   "source": [
    "model.compile(loss='binary_crossentropy', metrics=['accuracy'], optimizer='adam')"
   ]
  },
  {
   "cell_type": "code",
   "execution_count": 24,
   "metadata": {},
   "outputs": [
    {
     "name": "stdout",
     "output_type": "stream",
     "text": [
      "Epoch 1/20\n",
      "2/2 [==============================] - 0s 21ms/step - loss: 0.2490 - accuracy: 1.0000 - val_loss: 0.6522 - val_accuracy: 0.7273\n",
      "Epoch 2/20\n",
      "2/2 [==============================] - 0s 7ms/step - loss: 0.2245 - accuracy: 1.0000 - val_loss: 0.6491 - val_accuracy: 0.7273\n",
      "Epoch 3/20\n",
      "2/2 [==============================] - 0s 8ms/step - loss: 0.2027 - accuracy: 1.0000 - val_loss: 0.6471 - val_accuracy: 0.7273\n",
      "Epoch 4/20\n",
      "2/2 [==============================] - 0s 8ms/step - loss: 0.1840 - accuracy: 1.0000 - val_loss: 0.6456 - val_accuracy: 0.7273\n",
      "Epoch 5/20\n",
      "2/2 [==============================] - 0s 8ms/step - loss: 0.1668 - accuracy: 1.0000 - val_loss: 0.6423 - val_accuracy: 0.7273\n",
      "Epoch 6/20\n",
      "2/2 [==============================] - 0s 8ms/step - loss: 0.1509 - accuracy: 1.0000 - val_loss: 0.6395 - val_accuracy: 0.7273\n",
      "Epoch 7/20\n",
      "2/2 [==============================] - 0s 8ms/step - loss: 0.1377 - accuracy: 1.0000 - val_loss: 0.6357 - val_accuracy: 0.7273\n",
      "Epoch 8/20\n",
      "2/2 [==============================] - 0s 8ms/step - loss: 0.1251 - accuracy: 1.0000 - val_loss: 0.6306 - val_accuracy: 0.7273\n",
      "Epoch 9/20\n",
      "2/2 [==============================] - 0s 8ms/step - loss: 0.1144 - accuracy: 1.0000 - val_loss: 0.6256 - val_accuracy: 0.7273\n",
      "Epoch 10/20\n",
      "2/2 [==============================] - 0s 8ms/step - loss: 0.1044 - accuracy: 1.0000 - val_loss: 0.6215 - val_accuracy: 0.7273\n",
      "Epoch 11/20\n",
      "2/2 [==============================] - 0s 8ms/step - loss: 0.0959 - accuracy: 1.0000 - val_loss: 0.6179 - val_accuracy: 0.7273\n",
      "Epoch 12/20\n",
      "2/2 [==============================] - 0s 8ms/step - loss: 0.0879 - accuracy: 1.0000 - val_loss: 0.6161 - val_accuracy: 0.7273\n",
      "Epoch 13/20\n",
      "2/2 [==============================] - 0s 8ms/step - loss: 0.0809 - accuracy: 1.0000 - val_loss: 0.6148 - val_accuracy: 0.7273\n",
      "Epoch 14/20\n",
      "2/2 [==============================] - 0s 8ms/step - loss: 0.0750 - accuracy: 1.0000 - val_loss: 0.6139 - val_accuracy: 0.7273\n",
      "Epoch 15/20\n",
      "2/2 [==============================] - 0s 8ms/step - loss: 0.0694 - accuracy: 1.0000 - val_loss: 0.6128 - val_accuracy: 0.6818\n",
      "Epoch 16/20\n",
      "2/2 [==============================] - 0s 8ms/step - loss: 0.0645 - accuracy: 1.0000 - val_loss: 0.6116 - val_accuracy: 0.6818\n",
      "Epoch 17/20\n",
      "2/2 [==============================] - 0s 8ms/step - loss: 0.0600 - accuracy: 1.0000 - val_loss: 0.6112 - val_accuracy: 0.6818\n",
      "Epoch 18/20\n",
      "2/2 [==============================] - 0s 8ms/step - loss: 0.0558 - accuracy: 1.0000 - val_loss: 0.6112 - val_accuracy: 0.6818\n",
      "Epoch 19/20\n",
      "2/2 [==============================] - 0s 8ms/step - loss: 0.0524 - accuracy: 1.0000 - val_loss: 0.6115 - val_accuracy: 0.6818\n",
      "Epoch 20/20\n",
      "2/2 [==============================] - 0s 8ms/step - loss: 0.0490 - accuracy: 1.0000 - val_loss: 0.6121 - val_accuracy: 0.6818\n"
     ]
    }
   ],
   "source": [
    "history = model.fit(X_train_rdy, y_train, validation_data=(X_test_rdy, y_test), epochs=20)"
   ]
  },
  {
   "cell_type": "code",
   "execution_count": 45,
   "metadata": {},
   "outputs": [
    {
     "data": {
      "image/png": "[encoded data removed]",
      "text/plain": [
       "<Figure size 432x288 with 1 Axes>"
      ]
     },
     "metadata": {
      "needs_background": "light"
     },
     "output_type": "display_data"
    }
   ],
   "source": [
    "plt.plot(history.history['loss'], label='Train loss')\n",
    "plt.plot(history.history['val_loss'], label='Val Loss')\n",
    "plt.legend();"
   ]
  },
  {
   "cell_type": "code",
   "execution_count": null,
   "metadata": {},
   "outputs": [],
   "source": [
    "history."
   ]
  },
  {
   "cell_type": "code",
   "execution_count": 12,
   "metadata": {},
   "outputs": [
    {
     "name": "stdout",
     "output_type": "stream",
     "text": [
      "Baseline Score:\n",
      "1    0.590909\n",
      "0    0.409091\n",
      "Name: target, dtype: float64\n",
      "\n",
      "GridSearch Best Score: 0.6730769230769231\n",
      "\n",
      "GridSearch Best Parameters:\n"
     ]
    },
    {
     "data": {
      "text/plain": [
       "{'cvec__max_df': 0.95,\n",
       " 'cvec__max_features': 2000,\n",
       " 'cvec__min_df': 3,\n",
       " 'cvec__ngram_range': (1, 1),\n",
       " 'model__bootstrap': True,\n",
       " 'model__ccp_alpha': 0.0,\n",
       " 'model__class_weight': None,\n",
       " 'model__criterion': 'gini',\n",
       " 'model__max_depth': None,\n",
       " 'model__max_features': 'auto',\n",
       " 'model__max_leaf_nodes': None,\n",
       " 'model__max_samples': None,\n",
       " 'model__min_impurity_decrease': 0.0,\n",
       " 'model__min_impurity_split': None,\n",
       " 'model__min_samples_leaf': 1,\n",
       " 'model__min_samples_split': 2,\n",
       " 'model__min_weight_fraction_leaf': 0.0,\n",
       " 'model__n_estimators': 100,\n",
       " 'model__n_jobs': None,\n",
       " 'model__oob_score': False,\n",
       " 'model__random_state': None,\n",
       " 'model__verbose': 0,\n",
       " 'model__warm_start': False}"
      ]
     },
     "metadata": {},
     "output_type": "display_data"
    },
    {
     "name": "stdout",
     "output_type": "stream",
     "text": [
      "\n",
      "GridSearch Training Score: 1.0\n",
      "\n",
      "GridSearch Testing Score: 0.7272727272727273\n"
     ]
    }
   ],
   "source": [
    "benchmark_model(gs,X_train,X_test,y_train,y_test)"
   ]
  }
 ],
 "metadata": {
  "kernelspec": {
   "display_name": "Python 3",
   "language": "python",
   "name": "python3"
  },
  "language_info": {
   "codemirror_mode": {
    "name": "ipython",
    "version": 3
   },
   "file_extension": ".py",
   "mimetype": "text/x-python",
   "name": "python",
   "nbconvert_exporter": "python",
   "pygments_lexer": "ipython3",
   "version": "3.7.7"
  }
 },
 "nbformat": 4,
 "nbformat_minor": 4
}
