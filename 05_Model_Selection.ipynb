{
 "cells": [
  {
   "cell_type": "code",
   "execution_count": 1,
   "metadata": {},
   "outputs": [],
   "source": [
    "import numpy as np\n",
    "import pandas as pd\n",
    "import matplotlib.pyplot as plt\n",
    "\n",
    "from sklearn.model_selection import train_test_split, GridSearchCV\n",
    "from sklearn.pipeline import Pipeline\n",
    "from sklearn.ensemble import RandomForestClassifier\n",
    "from sklearn.metrics import confusion_matrix, plot_confusion_matrix\n",
    "\n",
    "from sklearn.feature_extraction.text import CountVectorizer"
   ]
  },
  {
   "cell_type": "code",
   "execution_count": 2,
   "metadata": {},
   "outputs": [],
   "source": [
    "def modeling_parameters(model):\n",
    "    parameters = model.get_params()\n",
    "    \n",
    "    param_dict = { 'model' + '__' + key : [value]\\\n",
    "              for key,value in zip(parameters.keys(),parameters.values())\n",
    "                 }\n",
    "    return param_dict\n",
    "\n",
    "def benchmark_model(gridsearch,X_train,X_test,y_train,y_test):\n",
    "    \n",
    "    print()\n",
    "    \n",
    "    print(f'Baseline Score:\\n{y_test.value_counts(normalize=True)}')\n",
    "    print()\n",
    "    print(f'GridSearch Best Score: {gridsearch.best_score_}')\n",
    "    print()\n",
    "    print(f'GridSearch Best Parameters:')\n",
    "    display(gridsearch.best_params_)\n",
    "    print()\n",
    "    print(f'GridSearch Training Score: {gridsearch.score(X_train, y_train)}')\n",
    "    print()\n",
    "    print(f'GridSearch Testing Score: {gridsearch.score(X_test, y_test)}')"
   ]
  },
  {
   "cell_type": "code",
   "execution_count": 3,
   "metadata": {},
   "outputs": [],
   "source": [
    "df = pd.read_csv('data/modeling_aapl.csv')\n",
    "df.set_index('Unnamed: 0',inplace=True)\n",
    "df.index.rename('adjusted_date',inplace=True)"
   ]
  },
  {
   "cell_type": "code",
   "execution_count": 4,
   "metadata": {},
   "outputs": [],
   "source": [
    "df['target'] = [0 if i <= 0 else 1 for i in df['Close']] "
   ]
  },
  {
   "cell_type": "code",
   "execution_count": 5,
   "metadata": {},
   "outputs": [],
   "source": [
    "X = df['text']\n",
    "y = df['target']"
   ]
  },
  {
   "cell_type": "code",
   "execution_count": 6,
   "metadata": {},
   "outputs": [],
   "source": [
    "X_train, X_test, y_train, y_test = train_test_split(X,\n",
    "                                                    y,\n",
    "                                                    stratify=y,\n",
    "                                                    random_state=1)"
   ]
  },
  {
   "cell_type": "code",
   "execution_count": 7,
   "metadata": {},
   "outputs": [
    {
     "data": {
      "text/plain": [
       "1    0.590909\n",
       "0    0.409091\n",
       "Name: target, dtype: float64"
      ]
     },
     "execution_count": 7,
     "metadata": {},
     "output_type": "execute_result"
    }
   ],
   "source": [
    "y_test.value_counts(normalize=True)"
   ]
  },
  {
   "cell_type": "code",
   "execution_count": 8,
   "metadata": {},
   "outputs": [],
   "source": [
    "model = RandomForestClassifier()"
   ]
  },
  {
   "cell_type": "code",
   "execution_count": 9,
   "metadata": {},
   "outputs": [
    {
     "data": {
      "text/plain": [
       "{'model__bootstrap': [True],\n",
       " 'model__ccp_alpha': [0.0],\n",
       " 'model__class_weight': [None],\n",
       " 'model__criterion': ['gini'],\n",
       " 'model__max_depth': [None],\n",
       " 'model__max_features': ['auto'],\n",
       " 'model__max_leaf_nodes': [None],\n",
       " 'model__max_samples': [None],\n",
       " 'model__min_impurity_decrease': [0.0],\n",
       " 'model__min_impurity_split': [None],\n",
       " 'model__min_samples_leaf': [1],\n",
       " 'model__min_samples_split': [2],\n",
       " 'model__min_weight_fraction_leaf': [0.0],\n",
       " 'model__n_estimators': [100],\n",
       " 'model__n_jobs': [None],\n",
       " 'model__oob_score': [False],\n",
       " 'model__random_state': [None],\n",
       " 'model__verbose': [0],\n",
       " 'model__warm_start': [False]}"
      ]
     },
     "execution_count": 9,
     "metadata": {},
     "output_type": "execute_result"
    }
   ],
   "source": [
    "modeling_parameters(model)"
   ]
  },
  {
   "cell_type": "code",
   "execution_count": 10,
   "metadata": {},
   "outputs": [],
   "source": [
    "pipe = Pipeline([\n",
    "    ('cvec', CountVectorizer()),\n",
    "    ('model', model)\n",
    "])\n",
    "\n",
    "pipe_params = {\n",
    "    'cvec__max_features': [2_000, 3_000, 4_000, 5_000],\n",
    "    'cvec__min_df': [2, 3],\n",
    "    'cvec__max_df': [.9, .95],\n",
    "    'cvec__ngram_range': [(1,1), (1,2)],\n",
    "    'model__bootstrap': [True],\n",
    " 'model__ccp_alpha': [0.0],\n",
    " 'model__class_weight': [None],\n",
    " 'model__criterion': ['gini'],\n",
    " 'model__max_depth': [None],\n",
    " 'model__max_features': ['auto'],\n",
    " 'model__max_leaf_nodes': [None],\n",
    " 'model__max_samples': [None],\n",
    " 'model__min_impurity_decrease': [0.0],\n",
    " 'model__min_impurity_split': [None],\n",
    " 'model__min_samples_leaf': [1],\n",
    " 'model__min_samples_split': [2],\n",
    " 'model__min_weight_fraction_leaf': [0.0],\n",
    " 'model__n_estimators': [100],\n",
    " 'model__n_jobs': [None],\n",
    " 'model__oob_score': [False],\n",
    " 'model__random_state': [None],\n",
    " 'model__verbose': [0],\n",
    " 'model__warm_start': [False]\n",
    "}\n",
    "\n",
    "gs = GridSearchCV(pipe, # what object are we optimizing?\n",
    "                  param_grid=pipe_params, # what parameters values are we searching?\n",
    "                  cv=5,\n",
    "                 n_jobs=2,\n",
    "                 verbose=2) # 5-fold cross-validation."
   ]
  },
  {
   "cell_type": "code",
   "execution_count": 13,
   "metadata": {},
   "outputs": [],
   "source": [
    "gs.fit(X_train, y_train);"
   ]
  },
  {
   "cell_type": "code",
   "execution_count": 12,
   "metadata": {},
   "outputs": [
    {
     "name": "stdout",
     "output_type": "stream",
     "text": [
      "Baseline Score:\n",
      "1    0.590909\n",
      "0    0.409091\n",
      "Name: target, dtype: float64\n",
      "\n",
      "GridSearch Best Score: 0.6730769230769231\n",
      "\n",
      "GridSearch Best Parameters:\n"
     ]
    },
    {
     "data": {
      "text/plain": [
       "{'cvec__max_df': 0.95,\n",
       " 'cvec__max_features': 2000,\n",
       " 'cvec__min_df': 3,\n",
       " 'cvec__ngram_range': (1, 1),\n",
       " 'model__bootstrap': True,\n",
       " 'model__ccp_alpha': 0.0,\n",
       " 'model__class_weight': None,\n",
       " 'model__criterion': 'gini',\n",
       " 'model__max_depth': None,\n",
       " 'model__max_features': 'auto',\n",
       " 'model__max_leaf_nodes': None,\n",
       " 'model__max_samples': None,\n",
       " 'model__min_impurity_decrease': 0.0,\n",
       " 'model__min_impurity_split': None,\n",
       " 'model__min_samples_leaf': 1,\n",
       " 'model__min_samples_split': 2,\n",
       " 'model__min_weight_fraction_leaf': 0.0,\n",
       " 'model__n_estimators': 100,\n",
       " 'model__n_jobs': None,\n",
       " 'model__oob_score': False,\n",
       " 'model__random_state': None,\n",
       " 'model__verbose': 0,\n",
       " 'model__warm_start': False}"
      ]
     },
     "metadata": {},
     "output_type": "display_data"
    },
    {
     "name": "stdout",
     "output_type": "stream",
     "text": [
      "\n",
      "GridSearch Training Score: 1.0\n",
      "\n",
      "GridSearch Testing Score: 0.7272727272727273\n"
     ]
    }
   ],
   "source": [
    "benchmark_model(gs,X_train,X_test,y_train,y_test)"
   ]
  },
  {
   "cell_type": "code",
   "execution_count": 18,
   "metadata": {},
   "outputs": [
    {
     "data": {
      "text/plain": [
       "Pipeline(steps=[('cvec', CountVectorizer()),\n",
       "                ('model', RandomForestClassifier())])"
      ]
     },
     "execution_count": 18,
     "metadata": {},
     "output_type": "execute_result"
    }
   ],
   "source": [
    "gs.estimator"
   ]
  },
  {
   "cell_type": "code",
   "execution_count": null,
   "metadata": {},
   "outputs": [],
   "source": []
  }
 ],
 "metadata": {
  "kernelspec": {
   "display_name": "Python 3",
   "language": "python",
   "name": "python3"
  },
  "language_info": {
   "codemirror_mode": {
    "name": "ipython",
    "version": 3
   },
   "file_extension": ".py",
   "mimetype": "text/x-python",
   "name": "python",
   "nbconvert_exporter": "python",
   "pygments_lexer": "ipython3",
   "version": "3.7.7"
  }
 },
 "nbformat": 4,
 "nbformat_minor": 4
}
